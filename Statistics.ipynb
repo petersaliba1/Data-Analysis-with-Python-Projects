{
 "cells": [
  {
   "cell_type": "code",
   "execution_count": null,
   "id": "ca6be8de-a4aa-4133-9d54-c80e1c8587b3",
   "metadata": {},
   "outputs": [],
   "source": [
    "import pandas as pd\n",
    "import numpy as np\n",
    "import statistics"
   ]
  },
  {
   "cell_type": "code",
   "execution_count": null,
   "id": "0314160f-9eb1-4cdf-ae9f-a93a471398d0",
   "metadata": {},
   "outputs": [],
   "source": [
    "global array\n",
    "global column2\n",
    "global column1\n",
    "global column3\n",
    "global row1\n",
    "global row2\n",
    "global row3\n",
    "def calculate(a):\n",
    "    if len(a) == 9 and isinstance(a, list):\n",
    "        row1 = [a[0], a[3], a[6]]\n",
    "        row2 = [a[1], a[4], a[7]]\n",
    "        row3 = [a[2], a[5], a[8]]\n",
    "        column1 = [a[0], a[1], a[2]]\n",
    "        column2 = [a[3], a[4], a[5]]\n",
    "        column3 = [a[6], a[7], a[8]]\n",
    "        array = np.array([row1, row2, row3])\n",
    "        average = {'mean': [[float(np.mean(row1)), float(np.mean(row2)), float(np.mean(row3))], [float(np.mean(column1)), float(np.mean(column2)), float(np.mean(column3))], float(np.mean(array))]}\n",
    "        variance = {'variance': [[float(np.var(row1)), float(np.var(row2)), float(np.var(row3))], [float(np.var(column1)), float(np.var(column2)), float(np.var(column3))], float(np.var(array))]}\n",
    "        standard_deviation = {'standard deviation': [[float(np.std(row1)), float(np.std(row2)), float(np.std(row3))], [float(np.std(column1)), float(np.std(column2)), float(np.std(column3))], float(np.std(array))]}\n",
    "        max = {'max': [[int(np.max(row1)), int(np.max(row2)), int(np.max(row3))], [int(np.max(column1)), int(np.max(column2)), int(np.max(column3))], int(np.max(array))]}\n",
    "        min = {'min': [[int(np.min(row1)), int(np.min(row2)), int(np.min(row3))], [int(np.min(column1)), int(np.min(column2)), int(np.min(column3))], int(np.min(array))]}\n",
    "        sum = {'sum': [[int(np.sum(row1)), int(np.sum(row2)), int(np.sum(row3))], [int(np.sum(column1)), int(np.sum(column2)), int(np.sum(column3))], int(np.sum(array))]}\n",
    "        concatenated_dictionary = average | variance | standard_deviation | max | min | sum\n",
    "        print(concatenated_dictionary)\n",
    "    else:\n",
    "        return \"There are fewer or more than 9 elements in the given list\"\n",
    "a = [0,1,2,3,4,5,6,7,8]\n",
    "calculate(a)"
   ]
  },
  {
   "cell_type": "code",
   "execution_count": null,
   "id": "4f7d48a9-7341-4bbc-ba05-525f607ebb4c",
   "metadata": {},
   "outputs": [],
   "source": []
  }
 ],
 "metadata": {
  "kernelspec": {
   "display_name": "Python 3 (ipykernel)",
   "language": "python",
   "name": "python3"
  },
  "language_info": {
   "codemirror_mode": {
    "name": "ipython",
    "version": 3
   },
   "file_extension": ".py",
   "mimetype": "text/x-python",
   "name": "python",
   "nbconvert_exporter": "python",
   "pygments_lexer": "ipython3",
   "version": "3.12.1"
  }
 },
 "nbformat": 4,
 "nbformat_minor": 5
}
