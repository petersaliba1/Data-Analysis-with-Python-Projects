{
 "cells": [
  {
   "cell_type": "code",
   "execution_count": null,
   "id": "e62762cc-ff1e-4d9f-b2c4-9e6f7543d90f",
   "metadata": {},
   "outputs": [],
   "source": [
    "#Why use this?\n",
    "## This set of code blocks displays the usefulness of the pandas, numpy, and matplotlib libraries to create data visualizations for users. This exercise is part of the project requirements for freeCodeCamp's Data Analysis with Python certification."
   ]
  },
  {
   "cell_type": "code",
   "execution_count": null,
   "id": "18b894ae-5e91-4ea2-ab0d-31ddb62f853d",
   "metadata": {},
   "outputs": [],
   "source": [
    "import numpy as np\n",
    "import pandas as pd\n",
    "import matplotlib.pyplot as plt\n",
    "\n",
    "%matplotlib inline"
   ]
  },
  {
   "cell_type": "code",
   "execution_count": null,
   "id": "331a4a19-e811-4ff7-a687-10b8dd4b5eb8",
   "metadata": {},
   "outputs": [],
   "source": [
    "#1.) Use Pandas to import the data from \"fcc-forum-pageviews.csv\". Set the index to the date column.\n",
    "df = pd.read_csv('fcc-forum-pageviews.csv')\n",
    "#df.head()\n",
    "df.set_index('date')"
   ]
  },
  {
   "cell_type": "code",
   "execution_count": null,
   "id": "10ec8912-5c3a-4f2c-a8af-051a3f8f2a87",
   "metadata": {},
   "outputs": [],
   "source": [
    "#2.) Clean the data by filtering out days when the page views were in the top 2.5% of the dataset or bottom 2.5% of the dataset.\n",
    "filtered_df = df[(df['value'] > df['value'].quantile(0.025)) & (df['value'] < df['value'].quantile(0.975))]"
   ]
  },
  {
   "cell_type": "code",
   "execution_count": null,
   "id": "188c00f9-a648-4471-8100-03b5c56249ba",
   "metadata": {},
   "outputs": [],
   "source": [
    "#3.) Create a draw_line_plot function that uses Matplotlib to draw a line chart similar to \"examples/Figure_1.png\". The title should be Daily freeCodeCamp Forum Page Views 5/2016-12/2019. The label on the x axis should be Date and the label on the y axis should be Page Views.\n",
    "def draw_line_plot(df):\n",
    "    plt.figure(figsize=(12, 6))\n",
    "    plt.plot(df.index, df['value']/100000 * 100000, color='red', linewidth=1)\n",
    "    plt.title('Daily freeCodeCamp Forum Page Views 5/2016-12/2019')\n",
    "    plt.xlabel('Date')\n",
    "    plt.ylabel('Page Views')\n",
    "    plt.tight_layout()\n",
    "    plt.show()\n",
    "\n",
    "draw_line_plot(df)"
   ]
  },
  {
   "cell_type": "code",
   "execution_count": null,
   "id": "4d662556-49fc-45ad-9740-92630233a5a9",
   "metadata": {},
   "outputs": [],
   "source": [
    "#4.) Create a draw_bar_plot function that draws a bar chart similar to \"examples/Figure_2.png\". It should show average daily page views for each month grouped by year. The legend should show month labels and have a title of Months. On the chart, the label on the x axis should be Years and the label on the y axis should be Average Page Views.\n",
    "def draw_bar_plot(x):\n",
    "    df['date'] = pd.to_datetime(df['date'])\n",
    "    df.set_index('date', inplace=True)\n",
    "    df['year'] = df.index.year\n",
    "    df['month'] = df.index.month\n",
    "    df_grouped = df.groupby(['year', 'month'])['value'].mean().unstack()\n",
    "    df_grouped.plot(kind='bar', figsize=(12, 6), width=0.8, cmap='tab10')\n",
    "    plt.title('Daily freeCodeCamp Forum Page Views 5/2016-12/2019')\n",
    "    plt.xlabel('Years')\n",
    "    plt.ylabel('Average Page Views')\n",
    "    plt.legend(title='Months', labels=['Jan', 'Feb', 'Mar', 'Apr', 'May', 'Jun', 'Jul', 'Aug', 'Sep', 'Oct', 'Nov', 'Dec'])\n",
    "    plt.tight_layout()\n",
    "    plt.show()\n",
    "\n",
    "draw_bar_plot(df)\n"
   ]
  },
  {
   "cell_type": "code",
   "execution_count": null,
   "id": "dc7a08d7-b21f-4de3-97e3-48144e90733f",
   "metadata": {},
   "outputs": [],
   "source": [
    "#5.) Create a draw_box_plot function that uses Seaborn to draw two adjacent box plots similar to \"examples/Figure_3.png\". These box plots should show how the values are distributed within a given year or month and how it compares over time. The title of the first chart should be Year-wise Box Plot (Trend) and the title of the second chart should be Month-wise Box Plot (Seasonality). Make sure the month labels on bottom start at Jan and the x and y axis are labeled correctly. The boilerplate includes commands to prepare the data.\n",
    "def draw_box_plot(x):\n",
    "    df['date'] = pd.to_datetime(df['date'])\n",
    "    df.set_index('date', inplace=True)\n",
    "    df['year'] = df.index.year\n",
    "    df['month'] = df.index.month\n",
    "    \n",
    "    plt.figure(figsize=(14, 6))\n",
    "    plt.subplot(1, 2, 1)\n",
    "    sns.boxplot(x='year', y='value', data=df)\n",
    "    plt.title('Year-wise Box Plot (Trend)')\n",
    "    plt.xlabel('Year')\n",
    "    plt.ylabel('Page Views')\n",
    "    \n",
    "    plt.subplot(1, 2, 2)\n",
    "    sns.boxplot(x='month', y='value', data=df)\n",
    "    plt.title('Month-wise Box Plot (Seasonality)')\n",
    "    plt.xlabel('Month')\n",
    "    plt.ylabel('Page Views')\n",
    "    plt.xticks(ticks=range(12), labels=['Jan', 'Feb', 'Mar', 'Apr', 'May', 'Jun', 'Jul', 'Aug', 'Sep', 'Oct', 'Nov', 'Dec'])\n",
    "    \n",
    "    plt.tight_layout()\n",
    "    plt.show()\n",
    "\n",
    "draw_box_plot(df)"
   ]
  }
 ],
 "metadata": {
  "kernelspec": {
   "display_name": "Python 3 (ipykernel)",
   "language": "python",
   "name": "python3"
  },
  "language_info": {
   "codemirror_mode": {
    "name": "ipython",
    "version": 3
   },
   "file_extension": ".py",
   "mimetype": "text/x-python",
   "name": "python",
   "nbconvert_exporter": "python",
   "pygments_lexer": "ipython3",
   "version": "3.12.1"
  }
 },
 "nbformat": 4,
 "nbformat_minor": 5
}
