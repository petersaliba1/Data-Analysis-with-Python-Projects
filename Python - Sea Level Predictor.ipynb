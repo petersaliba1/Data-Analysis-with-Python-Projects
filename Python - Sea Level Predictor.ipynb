{
 "cells": [
  {
   "cell_type": "code",
   "execution_count": null,
   "id": "273b823b-276f-4f86-9f4a-04bda4c44e83",
   "metadata": {},
   "outputs": [],
   "source": [
    "# Why use this?\n",
    "## This shows the use of linear regression in a dataset to predict the rise of sea level over time."
   ]
  },
  {
   "cell_type": "code",
   "execution_count": null,
   "id": "81b9bd33-22b6-48d1-9c10-d65f58eeaf13",
   "metadata": {},
   "outputs": [],
   "source": [
    "import pandas as pd\n",
    "import numpy as np\n",
    "import matplotlib.pyplot as plt\n",
    "import seaborn\n",
    "from scipy import stats"
   ]
  },
  {
   "cell_type": "code",
   "execution_count": null,
   "id": "c2662a97-7cba-4353-8b42-52d5b33dc6f0",
   "metadata": {},
   "outputs": [],
   "source": [
    "#1.) Use Pandas to import the data from epa-sea-level.csv.\n",
    "df = pd.read_csv('epa-sea-level.csv')\n",
    "df.head()"
   ]
  },
  {
   "cell_type": "code",
   "execution_count": null,
   "id": "6c0ca5db-08af-45ac-9ea8-f8fc40902dea",
   "metadata": {},
   "outputs": [],
   "source": [
    "#2.) Use matplotlib to create a scatter plot using the Year column as the x-axis and the CSIRO Adjusted Sea Level column as the y-axis.\n",
    "plt.scatter(df['Year'], df['CSIRO Adjusted Sea Level'], color = \"red\", s = 2)\n",
    "plt.title(\"CSIRO Adjusted Sea Level Across the Years\")\n",
    "plt.xlabel(\"Year\")\n",
    "plt.ylabel(\"CSIRO Adjusted Sea Level\")\n",
    "plt.show()"
   ]
  },
  {
   "cell_type": "code",
   "execution_count": null,
   "id": "859d24c9-93dc-4958-aac9-a79ae3454c29",
   "metadata": {},
   "outputs": [],
   "source": [
    "#3.) Use the linregress function from scipy.stats to get the slope and y-intercept of the line of best fit. Plot the line of best fit over the top of the scatter plot. Make the line go through the year 2050 to predict the sea level rise in 2050.\n",
    "result = stats.linregress(df['Year'], df['CSIRO Adjusted Sea Level'])\n",
    "slope, intercept = result.slope, result.intercept\n",
    "\n",
    "def myfunc(x):\n",
    "    return slope * x + intercept\n",
    "\n",
    "years_extended = np.arange(df['Year'].min(), 2051)\n",
    "mymodel_extended = myfunc(years_extended)\n",
    "\n",
    "plt.scatter(df['Year'], df['CSIRO Adjusted Sea Level'])\n",
    "plt.plot(years_extended, mymodel_extended, color='red', linestyle='--')\n",
    "plt.xlabel('Year')\n",
    "plt.ylabel('CSIRO Adjusted Sea Level')\n",
    "plt.show()"
   ]
  },
  {
   "cell_type": "code",
   "execution_count": null,
   "id": "09a30dad-3ebd-4a1e-b5d0-99def9e152ce",
   "metadata": {},
   "outputs": [],
   "source": [
    "#4.) Plot a new line of best fit just using the data from year 2000 through the most recent year in the dataset. Make the line also go through the year 2050 to predict the sea level rise in 2050 if the rate of rise continues as it has since the year 2000. The x label should be Year, the y label should be Sea Level (inches), and the title should be Rise in Sea Level.\n",
    "df_filtered = df[df['Year'] >= 2000]\n",
    "\n",
    "result = stats.linregress(df_filtered['Year'], df_filtered['CSIRO Adjusted Sea Level'])\n",
    "slope, intercept = result.slope, result.intercept\n",
    "\n",
    "def myfunc(x):\n",
    "    return slope * x + intercept\n",
    "\n",
    "years_extended = np.arange(2000, 2051)\n",
    "mymodel_extended = myfunc(years_extended)\n",
    "\n",
    "plt.scatter(df_filtered['Year'], df_filtered['CSIRO Adjusted Sea Level'], label='Data')\n",
    "plt.plot(years_extended, mymodel_extended, color='red', linestyle='--', label='Fit Line')\n",
    "plt.xlabel('Year')\n",
    "plt.ylabel('Sea Level (inches)')\n",
    "plt.title('Rise in Sea Level')\n",
    "plt.legend()\n",
    "plt.show()"
   ]
  }
 ],
 "metadata": {
  "kernelspec": {
   "display_name": "Python 3 (ipykernel)",
   "language": "python",
   "name": "python3"
  },
  "language_info": {
   "codemirror_mode": {
    "name": "ipython",
    "version": 3
   },
   "file_extension": ".py",
   "mimetype": "text/x-python",
   "name": "python",
   "nbconvert_exporter": "python",
   "pygments_lexer": "ipython3",
   "version": "3.12.1"
  }
 },
 "nbformat": 4,
 "nbformat_minor": 5
}
